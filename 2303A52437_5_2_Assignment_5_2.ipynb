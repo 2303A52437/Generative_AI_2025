{
  "nbformat": 4,
  "nbformat_minor": 0,
  "metadata": {
    "colab": {
      "provenance": [],
      "authorship_tag": "ABX9TyOZTgCJN898iNIXWwdVMLjd",
      "include_colab_link": true
    },
    "kernelspec": {
      "name": "python3",
      "display_name": "Python 3"
    },
    "language_info": {
      "name": "python"
    }
  },
  "cells": [
    {
      "cell_type": "markdown",
      "metadata": {
        "id": "view-in-github",
        "colab_type": "text"
      },
      "source": [
        "<a href=\"https://colab.research.google.com/github/2303A52437/Generative_AI_2025/blob/main/2303A52437_5_2_Assignment_5_2.ipynb\" target=\"_parent\"><img src=\"https://colab.research.google.com/assets/colab-badge.svg\" alt=\"Open In Colab\"/></a>"
      ]
    },
    {
      "cell_type": "markdown",
      "source": [
        "1. (1 ponto) Design a multi-layer ANN architecture with one input, one hidden, and one output\n",
        "layer. Assume a linear activation function in the output layer and a sigmoid activation function\n",
        "in the hidden layer.\n",
        "\n",
        "• Write Python code for a backpropagation algorithm with gradient descent optimization to\n",
        "update weights and bias parameters of the ANN model with training data shown in Table\n",
        "1.\n",
        "\n",
        "• Calculate the mean square error with training and testing data shown in Table 2.\n",
        "\n",
        "• Write Python code that reads the input data [x1 and x2] from the user. Predict the output\n",
        "with deployed ANN model"
      ],
      "metadata": {
        "id": "IVbJOuEhYlbX"
      }
    },
    {
      "cell_type": "code",
      "execution_count": 4,
      "metadata": {
        "colab": {
          "base_uri": "https://localhost:8080/"
        },
        "id": "ZaUXW14KYVP1",
        "outputId": "ff2aea44-a0bc-4875-e658-0a987ede44d8"
      },
      "outputs": [
        {
          "output_type": "stream",
          "name": "stdout",
          "text": [
            "Training MSE: 7.073212436372652e-05\n",
            "Testing MSE: 0.04199764671485131\n",
            "Enter x1 and x2: 0.4 0.5\n",
            "Predicted output: 0.5109261621396981\n"
          ]
        }
      ],
      "source": [
        "import numpy as np\n",
        "\n",
        "def sigmoid(x):\n",
        "    return 1 / (1 + np.exp(-x))\n",
        "\n",
        "def sigmoid_derivative(x):\n",
        "    return x * (1 - x)\n",
        "\n",
        "X_train = np.array([[0.2, 0.1], [0.3, 0.2], [0.4, 0.3], [0.7, 0.6], [0.8, 0.7], [0.9, 0.8]])\n",
        "y_train = np.array([[0.2], [0.3], [0.4], [0.7], [0.8], [0.9]]) ,
        "X_test = np.array([[0.5, 0.4], [0.6, 0.5]])\n",
        "y_test = np.array([[0.3615], [0.3672]])\n",
        "\n",
        "np.random.seed(0)\n",
        "input_neurons = 2\n",
        "hidden_neurons = 3\n",
        "output_neurons = 1\n",
        "\n",
        "W1 = np.random.rand(input_neurons, hidden_neurons)\n",
        "b1 = np.random.rand(1, hidden_neurons)\n",
        "W2 = np.random.rand(hidden_neurons, output_neurons)\n",
        "b2 = np.random.rand(1, output_neurons)\n",
        "\n",
        "learning_rate = 0.1\n",
        "epochs = 5000\n",
        "\n",
        "for epoch in range(epochs):\n",
        "\n",
        "    hidden_input = np.dot(X_train, W1) + b1\n",
        "    hidden_output = sigmoid(hidden_input)\n",
        "    final_input = np.dot(hidden_output, W2) + b2\n",
        "    final_output = final_input\n",
        "\n",
        "    error = y_train - final_output\n",
        "\n",
        "    d_output = error\n",
        "    d_hidden = d_output.dot(W2.T) * sigmoid_derivative(hidden_output)\n",
        "\n",
        "    W2 += hidden_output.T.dot(d_output) * learning_rate\n",
        "    b2 += np.sum(d_output, axis=0, keepdims=True) * learning_rate\n",
        "    W1 += X_train.T.dot(d_hidden) * learning_rate\n",
        "    b1 += np.sum(d_hidden, axis=0, keepdims=True) * learning_rate\n",
        "\n",
        "def mse(y_true, y_pred):\n",
        "    return np.mean((y_true - y_pred) ** 2)\n",
        "\n",
        "train_predictions = np.dot(sigmoid(np.dot(X_train, W1) + b1), W2) + b2\n",
        "test_predictions = np.dot(sigmoid(np.dot(X_test, W1) + b1), W2) + b2\n",
        "\n",
        "print(\"Training MSE:\", mse(y_train, train_predictions))\n",
        "print(\"Testing MSE:\", mse(y_test, test_predictions))\n",
        "\n",
        "x1, x2 = map(float, input(\"Enter x1 and x2: \").split())\n",
        "user_input = np.array([[x1, x2]])\n",
        "user_output = np.dot(sigmoid(np.dot(user_input, W1) + b1), W2) + b2\n",
        "print(\"Predicted output:\", user_output[0][0])\n"
      ]
    }
  ]
}
