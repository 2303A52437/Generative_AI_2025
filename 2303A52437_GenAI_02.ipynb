{
  "nbformat": 4,
  "nbformat_minor": 0,
  "metadata": {
    "colab": {
      "provenance": [],
      "authorship_tag": "ABX9TyN9ASE/elRhsAv72hdY+gAb",
      "include_colab_link": true
    },
    "kernelspec": {
      "name": "python3",
      "display_name": "Python 3"
    },
    "language_info": {
      "name": "python"
    }
  },
  "cells": [
    {
      "cell_type": "markdown",
      "metadata": {
        "id": "view-in-github",
        "colab_type": "text"
      },
      "source": [
        "<a href=\"https://colab.research.google.com/github/2303A52437/Generative_AI_2025/blob/main/2303A52437_GenAI_02.ipynb\" target=\"_parent\"><img src=\"https://colab.research.google.com/assets/colab-badge.svg\" alt=\"Open In Colab\"/></a>"
      ]
    },
    {
      "cell_type": "markdown",
      "source": [
        "# Assignment - 2"
      ],
      "metadata": {
        "id": "CQ6N-VFuiSqD"
      }
    },
    {
      "cell_type": "markdown",
      "source": [
        "1. Consider a chocolate manufacturing company that produces oriyatwo\n",
        "types of chocolate i.e. A and B. Both the chocolates require Milk and Choco only.\n",
        "\n",
        "To manufacture each unit of A and B, the following quantities are required:\n",
        "\n",
        "Each unit of A requires 1 unit of Milk and 3 units of Choco Each unit of B requires 1 unit of Milk and 2 units of Choco\n",
        "The company kitchen has a total of 5 units of Milk and 12 units of Choco. On each sale, the company makes a profit of Rs 6 per sanit A sold and Rs 5 per unit B sold.\n",
        "Now, the company wishes to maximize its profit. How many units of A and B should it produce respectively?"
      ],
      "metadata": {
        "id": "RqL-ia_1i6Qj"
      }
    },
    {
      "cell_type": "code",
      "execution_count": 1,
      "metadata": {
        "id": "12djoxyliQVq"
      },
      "outputs": [],
      "source": [
        "from scipy.optimize import linprog"
      ]
    },
    {
      "cell_type": "code",
      "source": [
        "obj = [-6, -5]\n",
        "A = [[1,1],[3,2]]\n",
        "B = [5, 12]\n",
        "\n",
        "x_bounds = (0, None)\n",
        "y_bounds = (0, None)\n",
        "\n",
        "res = linprog(c=obj, A_ub=A, b_ub=B, bounds=[x_bounds, y_bounds], method='revised simplex')\n",
        "if res.success:\n",
        "    x, y = res.x\n",
        "    max_profit = -res.fun\n",
        "    print(f\"Optimal number of A: {x:.2f}\")\n",
        "    print(f\"Optimal number of B: {y:.2f}\")\n",
        "    print(f\"Maximum profit: Rs {max_profit:.2f}\")\n",
        "else:\n",
        "    print(\"No solution found!\")"
      ],
      "metadata": {
        "id": "Cld-WVZboWWJ",
        "colab": {
          "base_uri": "https://localhost:8080/"
        },
        "outputId": "a127679b-572c-4dad-8357-52a7118c1b16"
      },
      "execution_count": 5,
      "outputs": [
        {
          "output_type": "stream",
          "name": "stdout",
          "text": [
            "Optimal number of A: 2.00\n",
            "Optimal number of B: 3.00\n",
            "Maximum profit: Rs 27.00\n"
          ]
        },
        {
          "output_type": "stream",
          "name": "stderr",
          "text": [
            "<ipython-input-5-58e2e6558f5c>:8: DeprecationWarning: `method='revised simplex'` is deprecated and will be removed in SciPy 1.11.0. Please use one of the HiGHS solvers (e.g. `method='highs'`) in new code.\n",
            "  res = linprog(c=obj, A_ub=A, b_ub=B, bounds=[x_bounds, y_bounds], method='revised simplex')\n"
          ]
        }
      ]
    },
    {
      "cell_type": "markdown",
      "source": [
        "2. A farmer has recently acquired a 110 hectares piece of land. He has decided to grow Wheat and barley on that land. Due to the quality of the sun and the region's excellent climate, the entire production of Wheat and Barley can be sold. He wants to know how to plant each variety in the 110 hectares, given the costs, net profits and labor requirements according to the data shown below:\n"
      ],
      "metadata": {
        "id": "PUfGRd9UX7YS"
      }
    },
    {
      "cell_type": "code",
      "source": [
        "from scipy.optimize import linprog\n",
        "c = [-50, -120]\n",
        "\n",
        "A = [\n",
        "    [1, 1],\n",
        "    [7000, 2000],\n",
        "    [10, 30]\n",
        "]\n",
        "\n",
        "b = [110, 700000, 1200]\n",
        "\n",
        "x_bounds = (0, None)\n",
        "y_bounds = (0, None)\n",
        "\n",
        "result = linprog(c, A_ub=A, b_ub=b, bounds=[x_bounds, y_bounds], method='highs')\n",
        "\n",
        "if result.success:\n",
        "    x, y = result.x\n",
        "    max_profit = -result.fun\n",
        "    print(f\"Optimal hectares for Wheat: {x:.2f}\")\n",
        "    print(f\"Optimal hectares for Barley: {y:.2f}\")\n",
        "    print(f\"Maximum Profit: Rs {max_profit:.2f}\")\n",
        "else:\n",
        "    print(\"No solution found!\")"
      ],
      "metadata": {
        "id": "ZGcaJsYjoJce",
        "colab": {
          "base_uri": "https://localhost:8080/"
        },
        "outputId": "5dc16f80-e696-42d7-a418-b556bdd1e1a1"
      },
      "execution_count": 7,
      "outputs": [
        {
          "output_type": "stream",
          "name": "stdout",
          "text": [
            "Optimal hectares for Wheat: 97.89\n",
            "Optimal hectares for Barley: 7.37\n",
            "Maximum Profit: Rs 5778.95\n"
          ]
        }
      ]
    }
  ]
}