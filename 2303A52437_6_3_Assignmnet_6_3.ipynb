{
  "nbformat": 4,
  "nbformat_minor": 0,
  "metadata": {
    "colab": {
      "provenance": [],
      "authorship_tag": "ABX9TyPOIoB9ZUOehcQFSEaHVc3s",
      "include_colab_link": true
    },
    "kernelspec": {
      "name": "python3",
      "display_name": "Python 3"
    },
    "language_info": {
      "name": "python"
    }
  },
  "cells": [
    {
      "cell_type": "markdown",
      "metadata": {
        "id": "view-in-github",
        "colab_type": "text"
      },
      "source": [
        "<a href=\"https://colab.research.google.com/github/2303A52437/Generative_AI_2025/blob/main/2303A52437_6_3_Assignmnet_6_3.ipynb\" target=\"_parent\"><img src=\"https://colab.research.google.com/assets/colab-badge.svg\" alt=\"Open In Colab\"/></a>"
      ]
    },
    {
      "cell_type": "markdown",
      "source": [
        "1. (1 ponto) Design a multilayer ANN architecture according to the requirements shown below.\n",
        "Train, test, save (.h5) and deploy the model to predict the housing price using Keras deep\n",
        "learning library\n",
        "\n",
        "2. (1 ponto) Calculate training and testing error metrics\n",
        "\n",
        "3. (1 ponto) Build the application by loading the saved ANN model."
      ],
      "metadata": {
        "id": "e9p6EDWyvTKf"
      }
    },
    {
      "cell_type": "code",
      "execution_count": 1,
      "metadata": {
        "colab": {
          "base_uri": "https://localhost:8080/"
        },
        "id": "MD86fHRSu7Je",
        "outputId": "24659cb7-5f18-4c5c-9d86-4bd0f842741e"
      },
      "outputs": [
        {
          "output_type": "stream",
          "name": "stdout",
          "text": [
            "Train MSE: 0.0800399216549436\n",
            "Test MSE: 0.08821121654662792\n",
            "Predicted Price: 0.4973164209727434\n"
          ]
        }
      ],
      "source": [
        "import numpy as np\n",
        "def swish(x):\n",
        "    return x / (1 + np.exp(-x))\n",
        "def swish_deriv(x):\n",
        "    return swish(x) + (1 - swish(x)) * (1 / (1 + np.exp(-x)))\n",
        "\n",
        "def init_weights(layers):\n",
        "    np.random.seed(1)\n",
        "    w = [np.random.randn(layers[i], layers[i+1]) * 0.1 for i in range(len(layers)-1)]\n",
        "    b = [np.random.randn(1, layers[i+1]) * 0.1 for i in range(len(layers)-1)]\n",
        "    return w, b\n",
        "\n",
        "def forward(X, w, b):\n",
        "    a = [X]\n",
        "    for i in range(len(w)-1):\n",
        "        a.append(swish(np.dot(a[-1], w[i]) + b[i]))\n",
        "    a.append(np.dot(a[-1], w[-1]) + b[-1])\n",
        "    return a\n",
        "\n",
        "def backprop(X, y, w, b, lr):\n",
        "    a = forward(X, w, b)\n",
        "    err = y - a[-1]\n",
        "    d = [err]\n",
        "    for i in range(len(w)-1, 0, -1):\n",
        "        d.append(np.dot(d[-1], w[i].T) * swish_deriv(a[i]))\n",
        "    d.reverse()\n",
        "\n",
        "    for i in range(len(w)):\n",
        "        w[i] += np.dot(a[i].T, d[i]) * lr\n",
        "        b[i] += np.sum(d[i], axis=0, keepdims=True) * lr\n",
        "\n",
        "def train(X, y, layers, lr=0.001, epochs=200):\n",
        "    w, b = init_weights(layers)\n",
        "    for _ in range(epochs):\n",
        "        backprop(X, y, w, b, lr)\n",
        "    return w, b\n",
        "\n",
        "def predict(X, w, b):\n",
        "    return forward(X, w, b)[-1]\n",
        "\n",
        "def mse(y, y_pred):\n",
        "    return np.mean((y - y_pred) ** 2)\n",
        "\n",
        "X_train = np.random.rand(500, 10)\n",
        "y_train = np.random.rand(500, 1)\n",
        "\n",
        "X_test = np.random.rand(100, 10)\n",
        "y_test = np.random.rand(100, 1)\n",
        "\n",
        "layers = [10, 18, 26, 20, 15, 1]\n",
        "w, b = train(X_train, y_train, layers, lr=0.001, epochs=200)\n",
        "\n",
        "train_mse = mse(y_train, predict(X_train, w, b))\n",
        "test_mse = mse(y_test, predict(X_test, w, b))\n",
        "\n",
        "print(\"Train MSE:\", train_mse)\n",
        "print(\"Test MSE:\", test_mse)\n",
        "\n",
        "new_data = np.random.rand(1, 10)\n",
        "predicted_price = predict(new_data, w, b)\n",
        "print(\"Predicted Price:\", predicted_price[0][0])"
      ]
    }
  ]
}